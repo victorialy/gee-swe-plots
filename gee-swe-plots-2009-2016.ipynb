{
 "cells": [
  {
   "cell_type": "markdown",
   "metadata": {},
   "source": [
    "# CDFs for GlobSnow and NoahMP SWE datasets\n",
    "GlobSnow SWE date range: Oct 2009-Sept 2016 <br>\n",
    "NoahMP SWE date range: Oct 2009-Sept 2016"
   ]
  },
  {
   "cell_type": "code",
   "execution_count": 1,
   "metadata": {},
   "outputs": [
    {
     "name": "stderr",
     "output_type": "stream",
     "text": [
      "C:\\Users\\vicki\\Anaconda3\\lib\\site-packages\\distributed\\config.py:63: YAMLLoadWarning: calling yaml.load() without Loader=... is deprecated, as the default Loader is unsafe. Please read https://msg.pyyaml.org/load for full details.\n",
      "  config.update(yaml.load(text))\n"
     ]
    }
   ],
   "source": [
    "import xarray as xr\n",
    "import os\n",
    "import matplotlib.pyplot as plt\n",
    "import numpy as np\n",
    "import rasterio\n",
    "from rasterio.plot import show\n",
    "from osgeo import gdal\n",
    "import seaborn as sns"
   ]
  },
  {
   "cell_type": "code",
   "execution_count": 21,
   "metadata": {},
   "outputs": [],
   "source": [
    "import matplotlib.pyplot as plt\n",
    "from osgeo import gdal\n",
    "\n",
    "# Test on ECMW, GDAS, GlobSnow SWE data, clipped to CLPX in GEE. Exported. \n",
    "filepath1 = r\"C:\\Users\\vicki\\gee-swe-plots\\GlobSnow_SWE_2009_2016\\201201_northern_hemisphere_monthly_swe_0.25grid.nc\"\n",
    "\n",
    "# Open the file.\n",
    "raster1 = gdal.Open(filepath1)"
   ]
  },
  {
   "cell_type": "code",
   "execution_count": 11,
   "metadata": {},
   "outputs": [
    {
     "name": "stdout",
     "output_type": "stream",
     "text": [
      "<osgeo.gdal.Dataset; proxy of <Swig Object of type 'GDALDatasetShadow *' at 0x0000022E2ECCB1B0> >\n"
     ]
    }
   ],
   "source": [
    "print(raster1)"
   ]
  },
  {
   "cell_type": "code",
   "execution_count": 22,
   "metadata": {},
   "outputs": [],
   "source": [
    "# Read raster data as numeric array from GDAL Dataset.\n",
    "rasterArray1 = raster1.ReadAsArray()\n",
    "\n",
    "# use flatten to take a 2-D array and turn it into a 1-D array.\n",
    "flattened_raster_data1 = rasterArray1.flatten()"
   ]
  },
  {
   "cell_type": "code",
   "execution_count": 23,
   "metadata": {},
   "outputs": [
    {
     "data": {
      "text/plain": [
       "Text(0, 0.5, 'Pixel Count')"
      ]
     },
     "execution_count": 23,
     "metadata": {},
     "output_type": "execute_result"
    },
    {
     "data": {
      "image/png": "[encoded data removed]",
      "text/plain": [
       "<Figure size 432x288 with 1 Axes>"
      ]
     },
     "metadata": {
      "needs_background": "light"
     },
     "output_type": "display_data"
    }
   ],
   "source": [
    "# plot histograms.\n",
    "plt.hist(flattened_raster_data1, bins=50, label='GlobSnow [25km]', color='#8da0cb', alpha=0.5)\n",
    "\n",
    "plt.xlabel('mean SWE 2009-10 (mm)')\n",
    "plt.ylabel('Pixel Count')"
   ]
  }
 ],
 "metadata": {
  "kernelspec": {
   "display_name": "Python 3",
   "language": "python",
   "name": "python3"
  },
  "language_info": {
   "codemirror_mode": {
    "name": "ipython",
    "version": 3
   },
   "file_extension": ".py",
   "mimetype": "text/x-python",
   "name": "python",
   "nbconvert_exporter": "python",
   "pygments_lexer": "ipython3",
   "version": "3.6.7"
  }
 },
 "nbformat": 4,
 "nbformat_minor": 4
}
